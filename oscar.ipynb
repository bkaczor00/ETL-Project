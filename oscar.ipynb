{
 "cells": [
  {
   "cell_type": "code",
   "execution_count": null,
   "metadata": {},
   "outputs": [],
   "source": [
    "import pandas as pd\n",
    "import requests\n",
    "import json\n",
    "import numpy as np"
   ]
  },
  {
   "cell_type": "code",
   "execution_count": null,
   "metadata": {},
   "outputs": [],
   "source": [
    "file = \"data_csv.csv\""
   ]
  },
  {
   "cell_type": "code",
   "execution_count": null,
   "metadata": {},
   "outputs": [],
   "source": [
    "df = pd.read_csv(file)\n",
    "df.head()"
   ]
  },
  {
   "cell_type": "code",
   "execution_count": null,
   "metadata": {},
   "outputs": [],
   "source": [
    "new_df = df[df[\"winner\"]==True]\n",
    "new_df"
   ]
  },
  {
   "cell_type": "code",
   "execution_count": null,
   "metadata": {},
   "outputs": [],
   "source": [
    "actor_actress_df = new_df.loc[(new_df[\"category\"]=='ACTOR')|(new_df[\"category\"]=='ACTRESS')| \\\n",
    "                              (new_df[\"category\"]=='ACTOR IN A LEADING ROLE')|(new_df[\"category\"]=='ACTRESS IN A LEADING ROLE')]\n",
    "actor_actress_df"
   ]
  },
  {
   "cell_type": "code",
   "execution_count": null,
   "metadata": {
    "tags": []
   },
   "outputs": [],
   "source": [
    "first_name=[]\n",
    "last_name=[]\n",
    "for name in actor_actress_df['entity']:\n",
    "    try:\n",
    "        first_name.append(name.split()[0])\n",
    "        last_name.append(name.split()[1])\n",
    "    except:\n",
    "        last_name.append(\"\")\n"
   ]
  },
  {
   "cell_type": "code",
   "execution_count": null,
   "metadata": {},
   "outputs": [],
   "source": [
    "actor_actress_df['First Name']=first_name\n",
    "actor_actress_df['Last Name']=last_name\n",
    "# actor_actress_df"
   ]
  },
  {
   "cell_type": "code",
   "execution_count": null,
   "metadata": {
    "tags": []
   },
   "outputs": [],
   "source": [
    "url_person = \"https://api.themoviedb.org/3/search/person?\"\n",
    "api=\"6aad3de5cbbe9408615a6bd344e0b7bb\"\n",
    "\n",
    "id_number=[]\n",
    "for index , col in actor_actress_df.iterrows():\n",
    "    try:\n",
    "        query_url = url_person + \"api_key=\" + api + \"&query=\" + col['First Name'] + \"+\" + col['Last Name']\n",
    "        person_json = requests.get(query_url).json()\n",
    "        id_number.append(person_json['results'][0]['id'])\n",
    "    except:\n",
    "        print(\"Actor not found\")"
   ]
  },
  {
   "cell_type": "code",
   "execution_count": null,
   "metadata": {},
   "outputs": [],
   "source": [
    "actor_actress_df['ID Number']=id_number\n",
    "# actor_actress_df"
   ]
  },
  {
   "cell_type": "code",
   "execution_count": null,
   "metadata": {
    "tags": []
   },
   "outputs": [],
   "source": [
    "actor_id=[]\n",
    "movie_title=[]\n",
    "\n",
    "url_person = \"https://api.themoviedb.org/3/person/\"\n",
    "\n",
    "for _, id in actor_actress_df.iterrows():\n",
    "    try:\n",
    "        query_url = url_person + str(id['ID Number']) + \"/movie_credits?api_key=\" + api + \"&language=en-US\"\n",
    "        person_json = requests.get(query_url).json()\n",
    "        for x in np.arange(len(person_json['cast'])):\n",
    "            actor_id.append(id['ID Number'])\n",
    "            movie_title.append(person_json['cast'][x]['title'])\n",
    "    except:\n",
    "        print(\"Actor not found\")"
   ]
  },
  {
   "cell_type": "code",
   "execution_count": null,
   "metadata": {},
   "outputs": [],
   "source": [
    "actor_id_title_df=pd.DataFrame({\"Actor ID\":actor_id,\"Movie Title\":movie_title})\n"
   ]
  },
  {
   "cell_type": "code",
   "execution_count": null,
   "metadata": {},
   "outputs": [],
   "source": [
    "actor_id_df=actor_actress_df[['entity', 'ID Number']]\n",
    "actor_id_df.drop_duplicates(subset=\"entity\",keep=False,inplace=True)\n",
    "actor_id_df"
   ]
  },
  {
   "cell_type": "code",
   "execution_count": null,
   "metadata": {},
   "outputs": [],
   "source": [
    "\n",
    "actor_id_df.to_csv(\"Output/actor_id_df.csv\",index=False)"
   ]
  },
  {
   "cell_type": "code",
   "execution_count": null,
   "metadata": {},
   "outputs": [],
   "source": [
    "actor_actress_df.to_csv(\"Output/actor_actress.csv\", index=False)"
   ]
  },
  {
   "cell_type": "code",
   "execution_count": null,
   "metadata": {},
   "outputs": [],
   "source": [
    "actor_id_title_df.to_csv(\"Output/actor_id_title.csv\", index=False)"
   ]
  },
  {
   "cell_type": "code",
   "execution_count": null,
   "metadata": {},
   "outputs": [],
   "source": []
  }
 ],
 "metadata": {
  "kernelspec": {
   "display_name": "Python 3",
   "language": "python",
   "name": "python3"
  },
  "language_info": {
   "codemirror_mode": {
    "name": "ipython",
    "version": 3
   },
   "file_extension": ".py",
   "mimetype": "text/x-python",
   "name": "python",
   "nbconvert_exporter": "python",
   "pygments_lexer": "ipython3",
   "version": "3.7.7"
  }
 },
 "nbformat": 4,
 "nbformat_minor": 4
}
