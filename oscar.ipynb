{
 "cells": [
  {
   "cell_type": "code",
   "execution_count": 1,
   "metadata": {},
   "outputs": [],
   "source": [
    "import pandas as pd\n",
    "import requests\n",
    "import json"
   ]
  },
  {
   "cell_type": "code",
   "execution_count": 2,
   "metadata": {},
   "outputs": [],
   "source": [
    "file = \"data_csv.csv\""
   ]
  },
  {
   "cell_type": "code",
   "execution_count": 3,
   "metadata": {},
   "outputs": [
    {
     "output_type": "execute_result",
     "data": {
      "text/plain": "   year category  winner               entity\n0  1927    ACTOR   False  Richard Barthelmess\n1  1927    ACTOR    True        Emil Jannings\n2  1927  ACTRESS   False       Louise Dresser\n3  1927  ACTRESS    True         Janet Gaynor\n4  1927  ACTRESS   False       Gloria Swanson",
      "text/html": "<div>\n<style scoped>\n    .dataframe tbody tr th:only-of-type {\n        vertical-align: middle;\n    }\n\n    .dataframe tbody tr th {\n        vertical-align: top;\n    }\n\n    .dataframe thead th {\n        text-align: right;\n    }\n</style>\n<table border=\"1\" class=\"dataframe\">\n  <thead>\n    <tr style=\"text-align: right;\">\n      <th></th>\n      <th>year</th>\n      <th>category</th>\n      <th>winner</th>\n      <th>entity</th>\n    </tr>\n  </thead>\n  <tbody>\n    <tr>\n      <th>0</th>\n      <td>1927</td>\n      <td>ACTOR</td>\n      <td>False</td>\n      <td>Richard Barthelmess</td>\n    </tr>\n    <tr>\n      <th>1</th>\n      <td>1927</td>\n      <td>ACTOR</td>\n      <td>True</td>\n      <td>Emil Jannings</td>\n    </tr>\n    <tr>\n      <th>2</th>\n      <td>1927</td>\n      <td>ACTRESS</td>\n      <td>False</td>\n      <td>Louise Dresser</td>\n    </tr>\n    <tr>\n      <th>3</th>\n      <td>1927</td>\n      <td>ACTRESS</td>\n      <td>True</td>\n      <td>Janet Gaynor</td>\n    </tr>\n    <tr>\n      <th>4</th>\n      <td>1927</td>\n      <td>ACTRESS</td>\n      <td>False</td>\n      <td>Gloria Swanson</td>\n    </tr>\n  </tbody>\n</table>\n</div>"
     },
     "metadata": {},
     "execution_count": 3
    }
   ],
   "source": [
    "df = pd.read_csv(file)\n",
    "df.head()"
   ]
  },
  {
   "cell_type": "code",
   "execution_count": 4,
   "metadata": {},
   "outputs": [
    {
     "output_type": "execute_result",
     "data": {
      "text/plain": "       year                                           category  winner  \\\n1      1927                                              ACTOR    True   \n3      1927                                            ACTRESS    True   \n6      1927                                      ART DIRECTION    True   \n9      1927                                     CINEMATOGRAPHY    True   \n10     1927                                     CINEMATOGRAPHY    True   \n...     ...                                                ...     ...   \n11053  2017  SCIENTIFIC AND TECHNICAL AWARD (Scientific and...    True   \n11054  2017  SCIENTIFIC AND TECHNICAL AWARD (Technical Achi...    True   \n11055  2017  SCIENTIFIC AND TECHNICAL AWARD (Technical Achi...    True   \n11056  2017  SCIENTIFIC AND TECHNICAL AWARD (Technical Achi...    True   \n11057  2017  SCIENTIFIC AND TECHNICAL AWARD (Technical Achi...    True   \n\n                                                  entity  \n1                                          Emil Jannings  \n3                                           Janet Gaynor  \n6                                William Cameron Menzies  \n9                                         Charles Rosher  \n10                                           Karl Struss  \n...                                                  ...  \n11053  To LEONARD CHAPMAN for the overall concept, de...  \n11054  To JASON SMITH and JEFF WHITE for the original...  \n11055  To JOE MANCEWICZ, MATT DERKSEN and HANS RIJPKE...  \n11056  To ALEX POWELL for his contribution to the des...  \n11057  To ROB JENSEN for the foundational design and ...  \n\n[3217 rows x 4 columns]",
      "text/html": "<div>\n<style scoped>\n    .dataframe tbody tr th:only-of-type {\n        vertical-align: middle;\n    }\n\n    .dataframe tbody tr th {\n        vertical-align: top;\n    }\n\n    .dataframe thead th {\n        text-align: right;\n    }\n</style>\n<table border=\"1\" class=\"dataframe\">\n  <thead>\n    <tr style=\"text-align: right;\">\n      <th></th>\n      <th>year</th>\n      <th>category</th>\n      <th>winner</th>\n      <th>entity</th>\n    </tr>\n  </thead>\n  <tbody>\n    <tr>\n      <th>1</th>\n      <td>1927</td>\n      <td>ACTOR</td>\n      <td>True</td>\n      <td>Emil Jannings</td>\n    </tr>\n    <tr>\n      <th>3</th>\n      <td>1927</td>\n      <td>ACTRESS</td>\n      <td>True</td>\n      <td>Janet Gaynor</td>\n    </tr>\n    <tr>\n      <th>6</th>\n      <td>1927</td>\n      <td>ART DIRECTION</td>\n      <td>True</td>\n      <td>William Cameron Menzies</td>\n    </tr>\n    <tr>\n      <th>9</th>\n      <td>1927</td>\n      <td>CINEMATOGRAPHY</td>\n      <td>True</td>\n      <td>Charles Rosher</td>\n    </tr>\n    <tr>\n      <th>10</th>\n      <td>1927</td>\n      <td>CINEMATOGRAPHY</td>\n      <td>True</td>\n      <td>Karl Struss</td>\n    </tr>\n    <tr>\n      <th>...</th>\n      <td>...</td>\n      <td>...</td>\n      <td>...</td>\n      <td>...</td>\n    </tr>\n    <tr>\n      <th>11053</th>\n      <td>2017</td>\n      <td>SCIENTIFIC AND TECHNICAL AWARD (Scientific and...</td>\n      <td>True</td>\n      <td>To LEONARD CHAPMAN for the overall concept, de...</td>\n    </tr>\n    <tr>\n      <th>11054</th>\n      <td>2017</td>\n      <td>SCIENTIFIC AND TECHNICAL AWARD (Technical Achi...</td>\n      <td>True</td>\n      <td>To JASON SMITH and JEFF WHITE for the original...</td>\n    </tr>\n    <tr>\n      <th>11055</th>\n      <td>2017</td>\n      <td>SCIENTIFIC AND TECHNICAL AWARD (Technical Achi...</td>\n      <td>True</td>\n      <td>To JOE MANCEWICZ, MATT DERKSEN and HANS RIJPKE...</td>\n    </tr>\n    <tr>\n      <th>11056</th>\n      <td>2017</td>\n      <td>SCIENTIFIC AND TECHNICAL AWARD (Technical Achi...</td>\n      <td>True</td>\n      <td>To ALEX POWELL for his contribution to the des...</td>\n    </tr>\n    <tr>\n      <th>11057</th>\n      <td>2017</td>\n      <td>SCIENTIFIC AND TECHNICAL AWARD (Technical Achi...</td>\n      <td>True</td>\n      <td>To ROB JENSEN for the foundational design and ...</td>\n    </tr>\n  </tbody>\n</table>\n<p>3217 rows × 4 columns</p>\n</div>"
     },
     "metadata": {},
     "execution_count": 4
    }
   ],
   "source": [
    "new_df = df[df[\"winner\"]==True]\n",
    "new_df"
   ]
  },
  {
   "cell_type": "code",
   "execution_count": 5,
   "metadata": {},
   "outputs": [
    {
     "output_type": "execute_result",
     "data": {
      "text/plain": "       year                   category  winner             entity\n1      1927                      ACTOR    True      Emil Jannings\n3      1927                    ACTRESS    True       Janet Gaynor\n36     1928                      ACTOR    True      Warner Baxter\n45     1928                    ACTRESS    True      Mary Pickford\n73     1929                      ACTOR    True      George Arliss\n...     ...                        ...     ...                ...\n10652  2015  ACTRESS IN A LEADING ROLE    True        Brie Larson\n10776  2016    ACTOR IN A LEADING ROLE    True      Casey Affleck\n10789  2016  ACTRESS IN A LEADING ROLE    True         Emma Stone\n10923  2017    ACTOR IN A LEADING ROLE    True        Gary Oldman\n10931  2017  ACTRESS IN A LEADING ROLE    True  Frances McDormand\n\n[182 rows x 4 columns]",
      "text/html": "<div>\n<style scoped>\n    .dataframe tbody tr th:only-of-type {\n        vertical-align: middle;\n    }\n\n    .dataframe tbody tr th {\n        vertical-align: top;\n    }\n\n    .dataframe thead th {\n        text-align: right;\n    }\n</style>\n<table border=\"1\" class=\"dataframe\">\n  <thead>\n    <tr style=\"text-align: right;\">\n      <th></th>\n      <th>year</th>\n      <th>category</th>\n      <th>winner</th>\n      <th>entity</th>\n    </tr>\n  </thead>\n  <tbody>\n    <tr>\n      <th>1</th>\n      <td>1927</td>\n      <td>ACTOR</td>\n      <td>True</td>\n      <td>Emil Jannings</td>\n    </tr>\n    <tr>\n      <th>3</th>\n      <td>1927</td>\n      <td>ACTRESS</td>\n      <td>True</td>\n      <td>Janet Gaynor</td>\n    </tr>\n    <tr>\n      <th>36</th>\n      <td>1928</td>\n      <td>ACTOR</td>\n      <td>True</td>\n      <td>Warner Baxter</td>\n    </tr>\n    <tr>\n      <th>45</th>\n      <td>1928</td>\n      <td>ACTRESS</td>\n      <td>True</td>\n      <td>Mary Pickford</td>\n    </tr>\n    <tr>\n      <th>73</th>\n      <td>1929</td>\n      <td>ACTOR</td>\n      <td>True</td>\n      <td>George Arliss</td>\n    </tr>\n    <tr>\n      <th>...</th>\n      <td>...</td>\n      <td>...</td>\n      <td>...</td>\n      <td>...</td>\n    </tr>\n    <tr>\n      <th>10652</th>\n      <td>2015</td>\n      <td>ACTRESS IN A LEADING ROLE</td>\n      <td>True</td>\n      <td>Brie Larson</td>\n    </tr>\n    <tr>\n      <th>10776</th>\n      <td>2016</td>\n      <td>ACTOR IN A LEADING ROLE</td>\n      <td>True</td>\n      <td>Casey Affleck</td>\n    </tr>\n    <tr>\n      <th>10789</th>\n      <td>2016</td>\n      <td>ACTRESS IN A LEADING ROLE</td>\n      <td>True</td>\n      <td>Emma Stone</td>\n    </tr>\n    <tr>\n      <th>10923</th>\n      <td>2017</td>\n      <td>ACTOR IN A LEADING ROLE</td>\n      <td>True</td>\n      <td>Gary Oldman</td>\n    </tr>\n    <tr>\n      <th>10931</th>\n      <td>2017</td>\n      <td>ACTRESS IN A LEADING ROLE</td>\n      <td>True</td>\n      <td>Frances McDormand</td>\n    </tr>\n  </tbody>\n</table>\n<p>182 rows × 4 columns</p>\n</div>"
     },
     "metadata": {},
     "execution_count": 5
    }
   ],
   "source": [
    "actor_actress_df = new_df.loc[(new_df[\"category\"]=='ACTOR')|(new_df[\"category\"]=='ACTRESS')| \\\n",
    "                              (new_df[\"category\"]=='ACTOR IN A LEADING ROLE')|(new_df[\"category\"]=='ACTRESS IN A LEADING ROLE')]\n",
    "actor_actress_df"
   ]
  },
  {
   "cell_type": "code",
   "execution_count": 6,
   "metadata": {
    "tags": []
   },
   "outputs": [],
   "source": [
    "first_name=[]\n",
    "last_name=[]\n",
    "for name in actor_actress_df['entity']:\n",
    "    try:\n",
    "        first_name.append(name.split()[0])\n",
    "        last_name.append(name.split()[1])\n",
    "    except:\n",
    "        last_name.append(\"\")\n"
   ]
  },
  {
   "cell_type": "code",
   "execution_count": 7,
   "metadata": {},
   "outputs": [],
   "source": [
    "actor_actress_df['First Name']=first_name\n",
    "actor_actress_df['Last Name']=last_name\n",
    "# actor_actress_df"
   ]
  },
  {
   "cell_type": "code",
   "execution_count": 8,
   "metadata": {
    "tags": []
   },
   "outputs": [],
   "source": [
    "url_person = \"https://api.themoviedb.org/3/search/person?\"\n",
    "api=\"6aad3de5cbbe9408615a6bd344e0b7bb\"\n",
    "\n",
    "id_number=[]\n",
    "for index , col in actor_actress_df.iterrows():\n",
    "    try:\n",
    "        query_url = url_person + \"api_key=\" + api + \"&query=\" + col['First Name'] + \"+\" + col['Last Name']\n",
    "        person_json = requests.get(query_url).json()\n",
    "        id_number.append(person_json['results'][0]['id'])\n",
    "    except:\n",
    "        print(\"Actor not found\")"
   ]
  },
  {
   "cell_type": "code",
   "execution_count": 9,
   "metadata": {},
   "outputs": [],
   "source": [
    "actor_actress_df['ID Number']=id_number\n",
    "# actor_actress_df"
   ]
  },
  {
   "cell_type": "code",
   "execution_count": 10,
   "metadata": {
    "tags": []
   },
   "outputs": [
    {
     "output_type": "stream",
     "name": "stdout",
     "text": "Actor not found\nActor not found\nActor not found\nActor not found\nActor not found\nActor not found\nActor not found\nActor not found\nActor not found\nActor not found\nActor not found\nActor not found\nActor not found\nActor not found\nActor not found\nActor not found\nActor not found\nActor not found\nActor not found\nActor not found\nActor not found\nActor not found\nActor not found\nActor not found\nActor not found\nActor not found\nActor not found\nActor not found\nActor not found\nActor not found\nActor not found\nActor not found\nActor not found\nActor not found\nActor not found\nActor not found\nActor not found\nActor not found\nActor not found\nActor not found\nActor not found\nActor not found\nActor not found\nActor not found\nActor not found\nActor not found\nActor not found\nActor not found\nActor not found\nActor not found\nActor not found\nActor not found\nActor not found\nActor not found\nActor not found\nActor not found\nActor not found\nActor not found\nActor not found\nActor not found\nActor not found\nActor not found\nActor not found\nActor not found\nActor not found\nActor not found\nActor not found\nActor not found\nActor not found\nActor not found\nActor not found\nActor not found\nActor not found\nActor not found\nActor not found\nActor not found\nActor not found\nActor not found\nActor not found\nActor not found\nActor not found\nActor not found\nActor not found\nActor not found\nActor not found\nActor not found\nActor not found\nActor not found\nActor not found\nActor not found\nActor not found\nActor not found\nActor not found\nActor not found\nActor not found\nActor not found\nActor not found\nActor not found\nActor not found\nActor not found\nActor not found\nActor not found\nActor not found\nActor not found\nActor not found\nActor not found\nActor not found\nActor not found\nActor not found\nActor not found\nActor not found\nActor not found\nActor not found\nActor not found\nActor not found\nActor not found\nActor not found\nActor not found\nActor not found\nActor not found\nActor not found\nActor not found\nActor not found\nActor not found\nActor not found\nActor not found\nActor not found\nActor not found\nActor not found\nActor not found\nActor not found\nActor not found\nActor not found\nActor not found\nActor not found\nActor not found\nActor not found\nActor not found\nActor not found\nActor not found\nActor not found\nActor not found\nActor not found\nActor not found\nActor not found\nActor not found\nActor not found\nActor not found\nActor not found\nActor not found\nActor not found\nActor not found\nActor not found\nActor not found\nActor not found\nActor not found\nActor not found\nActor not found\nActor not found\nActor not found\nActor not found\nActor not found\nActor not found\nActor not found\nActor not found\nActor not found\nActor not found\nActor not found\nActor not found\nActor not found\nActor not found\nActor not found\nActor not found\nActor not found\nActor not found\nActor not found\nActor not found\nActor not found\nActor not found\nActor not found\nActor not found\nActor not found\n"
    }
   ],
   "source": [
    "actor_id=[]\n",
    "movie_title=[]\n",
    "\n",
    "url_person = \"https://api.themoviedb.org/3/person/\"\n",
    "\n",
    "for _, id in actor_actress_df.iterrows():\n",
    "    try:\n",
    "        query_url = url_person + str(id['ID Number']) + \"/movie_credits?api_key=\" + api + \"&language=en-US\"\n",
    "        person_json = requests.get(query_url).json()\n",
    "        for x in np.arange(len(person_json['cast'])):\n",
    "            actor_id.append(id['ID Number'])\n",
    "            movie_title.append(person_json['cast'][x]['title'])\n",
    "    except:\n",
    "        print(\"Actor not found\")"
   ]
  },
  {
   "cell_type": "code",
   "execution_count": 11,
   "metadata": {},
   "outputs": [],
   "source": [
    "actor_id_title_df=pd.DataFrame({\"Actor ID\":actor_id,\"Movie Title\":movie_title})\n"
   ]
  },
  {
   "cell_type": "code",
   "execution_count": 16,
   "metadata": {},
   "outputs": [
    {
     "output_type": "execute_result",
     "data": {
      "text/plain": "                  entity  ID Number\n1          Emil Jannings       2895\n3           Janet Gaynor       9088\n36         Warner Baxter      29999\n45         Mary Pickford     100047\n73         George Arliss     124309\n...                  ...        ...\n10643  Leonardo DiCaprio       6193\n10652        Brie Larson      60073\n10776      Casey Affleck       1893\n10789         Emma Stone      54693\n10923        Gary Oldman         64\n\n[157 rows x 2 columns]",
      "text/html": "<div>\n<style scoped>\n    .dataframe tbody tr th:only-of-type {\n        vertical-align: middle;\n    }\n\n    .dataframe tbody tr th {\n        vertical-align: top;\n    }\n\n    .dataframe thead th {\n        text-align: right;\n    }\n</style>\n<table border=\"1\" class=\"dataframe\">\n  <thead>\n    <tr style=\"text-align: right;\">\n      <th></th>\n      <th>entity</th>\n      <th>ID Number</th>\n    </tr>\n  </thead>\n  <tbody>\n    <tr>\n      <th>1</th>\n      <td>Emil Jannings</td>\n      <td>2895</td>\n    </tr>\n    <tr>\n      <th>3</th>\n      <td>Janet Gaynor</td>\n      <td>9088</td>\n    </tr>\n    <tr>\n      <th>36</th>\n      <td>Warner Baxter</td>\n      <td>29999</td>\n    </tr>\n    <tr>\n      <th>45</th>\n      <td>Mary Pickford</td>\n      <td>100047</td>\n    </tr>\n    <tr>\n      <th>73</th>\n      <td>George Arliss</td>\n      <td>124309</td>\n    </tr>\n    <tr>\n      <th>...</th>\n      <td>...</td>\n      <td>...</td>\n    </tr>\n    <tr>\n      <th>10643</th>\n      <td>Leonardo DiCaprio</td>\n      <td>6193</td>\n    </tr>\n    <tr>\n      <th>10652</th>\n      <td>Brie Larson</td>\n      <td>60073</td>\n    </tr>\n    <tr>\n      <th>10776</th>\n      <td>Casey Affleck</td>\n      <td>1893</td>\n    </tr>\n    <tr>\n      <th>10789</th>\n      <td>Emma Stone</td>\n      <td>54693</td>\n    </tr>\n    <tr>\n      <th>10923</th>\n      <td>Gary Oldman</td>\n      <td>64</td>\n    </tr>\n  </tbody>\n</table>\n<p>157 rows × 2 columns</p>\n</div>"
     },
     "metadata": {},
     "execution_count": 16
    }
   ],
   "source": [
    "actor_id_df=actor_actress_df[['entity', 'ID Number']]\n",
    "actor_id_df.drop_duplicates(inplace=True)\n",
    "actor_id_df"
   ]
  },
  {
   "cell_type": "code",
   "execution_count": 21,
   "metadata": {},
   "outputs": [],
   "source": [
    "\n",
    "actor_id_df.to_csv(\"Output/actor_id_df.csv\",index=False)"
   ]
  },
  {
   "cell_type": "code",
   "execution_count": 18,
   "metadata": {},
   "outputs": [],
   "source": [
    "actor_actress_df.to_csv(\"Output/actor_actress.csv\", index=False)"
   ]
  },
  {
   "cell_type": "code",
   "execution_count": 20,
   "metadata": {},
   "outputs": [],
   "source": [
    "actor_id_title_df.to_csv(\"Output/actor_id_title.csv\", index=False)"
   ]
  }
 ],
 "metadata": {
  "kernelspec": {
   "display_name": "Python 3",
   "language": "python",
   "name": "python3"
  },
  "language_info": {
   "codemirror_mode": {
    "name": "ipython",
    "version": 3
   },
   "file_extension": ".py",
   "mimetype": "text/x-python",
   "name": "python",
   "nbconvert_exporter": "python",
   "pygments_lexer": "ipython3",
   "version": "3.7.6-final"
  }
 },
 "nbformat": 4,
 "nbformat_minor": 4
}